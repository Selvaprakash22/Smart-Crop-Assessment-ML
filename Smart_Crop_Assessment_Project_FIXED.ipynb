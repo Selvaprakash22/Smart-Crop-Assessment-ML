{
 "cells": [
  {
   "cell_type": "markdown",
   "id": "e52a3023",
   "metadata": {},
   "source": [
    "# Smart Crop Assessment and Disease Detection using Machine Learning 🌾🤖\n",
    "This project helps farmers by recommending crops based on soil/weather conditions and detecting plant diseases using ML."
   ]
  },
  {
   "cell_type": "code",
   "execution_count": null,
   "id": "7c5f1d5c",
   "metadata": {},
   "outputs": [],
   "source": [
    "import pandas as pd\n",
    "import numpy as np\n",
    "import matplotlib.pyplot as plt\n",
    "import seaborn as sns\n",
    "from sklearn.model_selection import train_test_split\n",
    "from sklearn.preprocessing import LabelEncoder\n",
    "from sklearn.linear_model import LogisticRegression\n",
    "from sklearn.metrics import accuracy_score, confusion_matrix, classification_report"
   ]
  },
  {
   "cell_type": "markdown",
   "id": "8ecd9a29",
   "metadata": {},
   "source": [
    "## 🌱 Crop Recommendation System"
   ]
  },
  {
   "cell_type": "code",
   "execution_count": null,
   "id": "00b98d6e",
   "metadata": {},
   "outputs": [],
   "source": [
    "# Sample dataset (replace with actual CSV later)\n",
    "data = {\n",
    "    'Nitrogen': [90, 50, 60, 80, 70],\n",
    "    'Phosphorus': [40, 60, 70, 50, 55],\n",
    "    'Potassium': [50, 45, 40, 60, 65],\n",
    "    'Temperature': [25, 22, 23, 30, 29],\n",
    "    'Humidity': [80, 70, 75, 60, 65],\n",
    "    'Crop': ['Rice', 'Wheat', 'Barley', 'Maize', 'Sugarcane']\n",
    "}\n",
    "df = pd.DataFrame(data)\n",
    "df.head()"
   ]
  },
  {
   "cell_type": "code",
   "execution_count": null,
   "id": "49e127ac",
   "metadata": {},
   "outputs": [],
   "source": [
    "le = LabelEncoder()\n",
    "df['Crop_Label'] = le.fit_transform(df['Crop'])\n",
    "X = df.drop(['Crop', 'Crop_Label'], axis=1)\n",
    "y = df['Crop_Label']"
   ]
  },
  {
   "cell_type": "code",
   "execution_count": null,
   "id": "11dfb12e",
   "metadata": {},
   "outputs": [],
   "source": [
    "X_train, X_test, y_train, y_test = train_test_split(X, y, test_size=0.2, random_state=42)\n",
    "model = LogisticRegression()\n",
    "model.fit(X_train, y_train)"
   ]
  },
  {
   "cell_type": "code",
   "execution_count": null,
   "id": "6f876e5b",
   "metadata": {},
   "outputs": [],
   "source": [
    "y_pred = model.predict(X_test)\n",
    "print(\"Accuracy:\", accuracy_score(y_test, y_pred))\n",
    "print(\"\\nClassification Report:\\n\", classification_report(y_test, y_pred))"
   ]
  },
  {
   "cell_type": "markdown",
   "id": "a02b3e4a",
   "metadata": {},
   "source": [
    "## 🍂 Disease Detection (Simulated CNN Placeholder)"
   ]
  },
  {
   "cell_type": "code",
   "execution_count": null,
   "id": "0b09a9e1",
   "metadata": {},
   "outputs": [],
   "source": [
    "def dummy_disease_detector(image_path):\n",
    "    diseases = ['Leaf Blight', 'Healthy', 'Bacterial Spot']\n",
    "    import random\n",
    "    return random.choice(diseases)\n",
    "\n",
    "# Example\n",
    "image = \"sample_leaf.jpg\"  # Replace with real image in future\n",
    "print(\"Detected Disease:\", dummy_disease_detector(image))"
   ]
  },
  {
   "cell_type": "markdown",
   "id": "699df1e3",
   "metadata": {},
   "source": [
    "## 📊 Confusion Matrix Visualization"
   ]
  },
  {
   "cell_type": "code",
   "execution_count": null,
   "id": "5571cedc",
   "metadata": {},
   "outputs": [],
   "source": [
    "sns.heatmap(confusion_matrix(y_test, y_pred), annot=True)\n",
    "plt.title(\"Confusion Matrix\")\n",
    "plt.xlabel(\"Predicted\")\n",
    "plt.ylabel(\"Actual\")\n",
    "plt.show()"
   ]
  },
  {
   "cell_type": "markdown",
   "id": "54bba2a1",
   "metadata": {},
   "source": [
    "## ✅ Final Notes\n",
    "- You can enhance this with real datasets\n",
    "- Add image datasets like PlantVillage for disease detection\n",
    "- Deploy using Flask or Android apps later"
   ]
  }
 ],
 "metadata": {},
 "nbformat": 4,
 "nbformat_minor": 5
}
